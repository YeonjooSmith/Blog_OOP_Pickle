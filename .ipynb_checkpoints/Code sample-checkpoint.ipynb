{
 "cells": [
  {
   "cell_type": "code",
   "execution_count": 1,
   "metadata": {
    "ExecuteTime": {
     "end_time": "2020-04-02T16:16:53.943856Z",
     "start_time": "2020-04-02T16:16:53.939867Z"
    }
   },
   "outputs": [],
   "source": [
    "import pickle"
   ]
  },
  {
   "cell_type": "code",
   "execution_count": 2,
   "metadata": {
    "ExecuteTime": {
     "end_time": "2020-04-02T16:16:54.780206Z",
     "start_time": "2020-04-02T16:16:53.944854Z"
    }
   },
   "outputs": [],
   "source": [
    "import pandas as pd\n",
    "import numpy as np\n",
    "\n",
    "#visualizations\n",
    "import matplotlib.pyplot as plt\n",
    "%matplotlib inline\n",
    "\n",
    "# #logistic regression\n",
    "from sklearn.linear_model import LogisticRegression\n"
   ]
  },
  {
   "cell_type": "markdown",
   "metadata": {},
   "source": [
    "The dataset was taken from [other project](https://github.com/YeonjooSmith/MachineLearning_CouponRedemptionAnalysis) "
   ]
  },
  {
   "cell_type": "code",
   "execution_count": 3,
   "metadata": {
    "ExecuteTime": {
     "end_time": "2020-04-02T16:16:54.950724Z",
     "start_time": "2020-04-02T16:16:54.781148Z"
    }
   },
   "outputs": [
    {
     "data": {
      "text/plain": [
       "dict_keys(['test_final', 'train_final', 'X_reduced', 'removed_cols', 'y', 'SMOTE_ratio', 'X_train_resampled', 'y_train_resampled', 'X_test', 'y_test', 'scaled_X_train_resampled', 'scaled_X_test', 'X_outlier', 'y_outlier', 'X'])"
      ]
     },
     "execution_count": 3,
     "metadata": {},
     "output_type": "execute_result"
    }
   ],
   "source": [
    "datas = pickle.load(open(\"finals.p\",\"rb\"))\n",
    "datas.keys()"
   ]
  },
  {
   "cell_type": "code",
   "execution_count": 4,
   "metadata": {
    "ExecuteTime": {
     "end_time": "2020-04-02T16:16:54.954713Z",
     "start_time": "2020-04-02T16:16:54.951691Z"
    }
   },
   "outputs": [],
   "source": [
    "X_train = datas['scaled_X_train_resampled']\n",
    "y_train = datas['y_train_resampled']\n",
    "y_test = datas['y_test']\n",
    "X_test = datas['scaled_X_test']"
   ]
  },
  {
   "cell_type": "code",
   "execution_count": 5,
   "metadata": {
    "ExecuteTime": {
     "end_time": "2020-04-02T16:16:54.963660Z",
     "start_time": "2020-04-02T16:16:54.955682Z"
    }
   },
   "outputs": [],
   "source": [
    "to_del =[]\n",
    "for col in X_train.columns:\n",
    "    if 'id' in col:\n",
    "        to_del.append(col)"
   ]
  },
  {
   "cell_type": "code",
   "execution_count": 6,
   "metadata": {
    "ExecuteTime": {
     "end_time": "2020-04-02T16:16:54.983608Z",
     "start_time": "2020-04-02T16:16:54.964658Z"
    }
   },
   "outputs": [],
   "source": [
    "X_train.drop(to_del, axis = 1, inplace=True)\n",
    "X_test.drop(to_del, axis = 1, inplace=True)"
   ]
  },
  {
   "cell_type": "markdown",
   "metadata": {},
   "source": [
    "# `result` class"
   ]
  },
  {
   "cell_type": "code",
   "execution_count": 7,
   "metadata": {
    "ExecuteTime": {
     "end_time": "2020-04-02T16:16:55.040560Z",
     "start_time": "2020-04-02T16:16:54.984604Z"
    }
   },
   "outputs": [],
   "source": [
    "\n",
    "import pandas as pd\n",
    "import matplotlib.pyplot as plt\n",
    "%matplotlib inline\n",
    "\n",
    "from sklearn.metrics import precision_score, recall_score, accuracy_score, f1_score, confusion_matrix, auc,roc_auc_score, roc_curve\n",
    "import seaborn as sns\n",
    "plt.style.use('seaborn-poster')\n",
    "sns.set_style('darkgrid')\n",
    "\n",
    "\n",
    "class result(object):\n",
    "    \"\"\"preds is a dictionary whose keys are 'train_preds' and 'test_preds' and the corresponding value is \n",
    "        the prediction for X_train and X_test\n",
    "        \n",
    "        params is a dictionary of parameters used in the model\n",
    "    \n",
    "    \"\"\"\n",
    "\n",
    "    def __init__(self,obj=None, params=None, preds={'train_preds':None, 'test_preds':None}):\n",
    "        self.model_obj = obj\n",
    "        self.params = params#parameter used, dictionary\n",
    "        self.preds = preds#[train_preds, test_preds]\n",
    "        self.data = None\n",
    "        self.note = None\n",
    "        self.metrics = None # to save the output of save_metrics\n",
    "    def print_metrics(self):\n",
    "        \"Print evaluation scores for the train and the test sets\"\n",
    "        print('Train set\\n')\n",
    "        print(\"Precision Score: {}\".format(precision_score(y_train, self.preds['train_preds'])))\n",
    "        print(\"Recall Score: {}\".format(recall_score(y_train, self.preds['train_preds'])))\n",
    "        print(\"Accuracy Score: {}\".format(accuracy_score(y_train, self.preds['train_preds'])))\n",
    "        print(\"F1 Score: {}\".format(f1_score(y_train, self.preds['train_preds'])))\n",
    "        print('\\n')\n",
    "        \n",
    "        print('Test set\\n')\n",
    "        print(\"Precision Score: {}\".format(precision_score(y_test, self.preds['test_preds'])))\n",
    "        print(\"Recall Score: {}\".format(recall_score(y_test, self.preds['test_preds'])))\n",
    "        print(\"Accuracy Score: {}\".format(accuracy_score(y_test, self.preds['test_preds'])))\n",
    "        print(\"F1 Score: {}\".format(f1_score(y_test, self.preds['test_preds'])))\n",
    "        print('\\n')\n",
    "        \n",
    "    def save_metrics(self):\n",
    "        \"\"\"\n",
    "            Save the evaluation scores as a dictionary.\n",
    "        \"\"\"\n",
    "        scores ={}\n",
    "        scores['Train set']={\n",
    "            \"Precision Score\":precision_score(y_train, self.preds['train_preds']),\n",
    "            \"Recall Score\":recall_score(y_train, self.preds['train_preds']),\n",
    "            \"Accuracy Score\":accuracy_score(y_train, self.preds['train_preds']),\n",
    "            \"F1 Score\":f1_score(y_train, self.preds['train_preds']),\n",
    "        }\n",
    "\n",
    "        scores['Test set']={\n",
    "            \"Precision Score\":precision_score(y_test, self.preds['test_preds']),\n",
    "            \"Recall Score\":recall_score(y_test, self.preds['test_preds']),\n",
    "            \"Accuracy Score\":accuracy_score(y_test, self.preds['test_preds']),\n",
    "            \"F1 Score\":f1_score(y_test, self.preds['test_preds']),\n",
    "        }\n",
    "        return scores\n",
    "\n",
    "    def plot_confusion_matrix(self,\n",
    "                          normalize=False,\n",
    "                          title='Confusion matrix',\n",
    "                          cmap=plt.cm.Blues):\n",
    "        \"\"\"Plot confusion matrix\"\"\"\n",
    "        cm = confusion_matrix(self.preds['test_preds'], y_test)\n",
    "        classes =[0,1]\n",
    "        # Check if normalize is set to True\n",
    "        # If so, normalize the raw confusion matrix before visualizing\n",
    "\n",
    "\n",
    "        if normalize:\n",
    "            cm = cm.astype('float') / cm.sum(axis=1)[:, np.newaxis]\n",
    "            print(\"Normalized confusion matrix\")\n",
    "            title ='Normalized'+ title\n",
    "        else:\n",
    "            print('Confusion matrix, without normalization')\n",
    "            title = title\n",
    "        print(cm)\n",
    "\n",
    "        array = cm \n",
    "\n",
    "        df_cm = pd.DataFrame(array, index =classes,\n",
    "                          columns = classes)\n",
    "        plt.figure(figsize = (7,5))\n",
    "#         akws = {\"ha\": 'left',\"va\": 'top'}\n",
    "        akws = {\"ha\": 'left',\"va\": 'top',\"size\": 15}\n",
    "        # Text formatting\n",
    "        fmt = '.2f' if normalize else 'd'\n",
    "        ax = sns.heatmap(df_cm, cmap= plt.cm.Blues,  annot=True, annot_kws=akws, fmt=fmt)\n",
    "        ax.set_title(title) \n",
    "        ax.set_xlabel('True label') \n",
    "        ax.set_ylabel('Predicted label')\n",
    "\n",
    "        plt.show() \n",
    "        return cm"
   ]
  },
  {
   "cell_type": "code",
   "execution_count": 8,
   "metadata": {
    "ExecuteTime": {
     "end_time": "2020-04-02T16:16:55.053508Z",
     "start_time": "2020-04-02T16:16:55.041512Z"
    }
   },
   "outputs": [],
   "source": [
    "import pandas as pd\n",
    "import matplotlib.pyplot as plt\n",
    "%matplotlib inline\n",
    "\n",
    "from sklearn.metrics import precision_score, recall_score, accuracy_score, f1_score, confusion_matrix, auc,roc_auc_score, roc_curve\n",
    "import seaborn as sns\n",
    "plt.style.use('seaborn-poster')\n",
    "sns.set_style('darkgrid')\n",
    "\n",
    "\n",
    "def Saving_results(result_obj,#result objec \n",
    "                   md_obj,#model object such as LogisticRegression\n",
    "                   result_name#The name of the model such as logistic regression to save it in train_scores/test_scores df\n",
    "                  ):\n",
    "    #for my convinience, I just used global variables, X_train, X_test, y_train, y_test, here.\n",
    "    # I also define a dictionary called Result which is to save the results with result_name as the key\n",
    "    \n",
    "\n",
    "    md_obj.fit(X_train,y_train)#fit model\n",
    "    train_preds = md_obj.predict(X_train)#y_train_prediction\n",
    "    test_preds = md_obj.predict(X_test)#y_test_prediction\n",
    "    \n",
    "    result_obj.obj = md_obj\n",
    "    result_obj.preds = {'train_preds':train_preds, 'test_preds':test_preds}#predictions grouped as a dictionary saved \n",
    "    result_obj.params = md_obj.__dict__#hyperparameters saved \n",
    "    result_obj.metrics = result_obj.save_metrics()#evaluation scores saved as a dictionary \n",
    "    \n",
    "    \n",
    "    \n",
    "    result_obj.print_metrics() #print evaluation scores \n",
    "    result_obj.confMat = result_obj.plot_confusion_matrix()#confusion matrix\n",
    "    \n",
    "    #Save the result object in Results dictionary with key= result_name\n",
    "    Results[result_name] = result_obj\n",
    "    print('{} is saved in Results table.'.format(result_name))\n",
    "    \n",
    "    \n",
    "    #evaluation scores saved in the dataframes\n",
    "    train_scores.loc[result_name] = result_obj.metrics['Train set'] \n",
    "    test_scores.loc[result_name] = result_obj.metrics['Test set']\n",
    "    \n",
    "    #updating the dataframes of evalution scores\n",
    "    Results['train_scores'] = train_scores\n",
    "    Results['test_scores'] = test_scores\n",
    "    print('train_scores dataframe is updated.\\n')\n",
    "    print(train_scores)\n",
    "    print('\\n')\n",
    "    print('test_scores dataframe is updated.\\n')\n",
    "    print(test_scores)\n",
    "    \n",
    "    return None"
   ]
  },
  {
   "cell_type": "markdown",
   "metadata": {},
   "source": [
    "Create the `DataFrames` and the dictionary `Results`"
   ]
  },
  {
   "cell_type": "code",
   "execution_count": 15,
   "metadata": {
    "ExecuteTime": {
     "end_time": "2020-04-02T16:19:10.165896Z",
     "start_time": "2020-04-02T16:19:10.156885Z"
    },
    "scrolled": true
   },
   "outputs": [],
   "source": [
    "#Dataframes to save evaluating scores of different models\n",
    "train_scores =pd.DataFrame(columns = ['Precision Score', 'Recall Score', 'Accuracy Score', 'F1 Score'])\n",
    "test_scores =pd.DataFrame(columns = ['Precision Score', 'Recall Score', 'Accuracy Score', 'F1 Score'])\n",
    "\n",
    "Results={}"
   ]
  },
  {
   "cell_type": "code",
   "execution_count": 16,
   "metadata": {
    "ExecuteTime": {
     "end_time": "2020-04-02T16:19:14.720761Z",
     "start_time": "2020-04-02T16:19:14.717783Z"
    }
   },
   "outputs": [],
   "source": [
    "LogReg = result()\n",
    "logreg = LogisticRegression(fit_intercept=False, C=0.001, solver='sag')"
   ]
  },
  {
   "cell_type": "code",
   "execution_count": 17,
   "metadata": {
    "ExecuteTime": {
     "end_time": "2020-04-02T16:19:15.589666Z",
     "start_time": "2020-04-02T16:19:14.918469Z"
    }
   },
   "outputs": [
    {
     "name": "stdout",
     "output_type": "stream",
     "text": [
      "Train set\n",
      "\n",
      "Precision Score: 0.6141933228456563\n",
      "Recall Score: 0.9287904419539015\n",
      "Accuracy Score: 0.8375786988457503\n",
      "F1 Score: 0.7394204667410197\n",
      "\n",
      "\n",
      "Test set\n",
      "\n",
      "Precision Score: 0.029697766097240473\n",
      "Recall Score: 0.6890243902439024\n",
      "Accuracy Score: 0.8060018658650357\n",
      "F1 Score: 0.05694129503653313\n",
      "\n",
      "\n",
      "Confusion matrix, without normalization\n",
      "[[15438    51]\n",
      " [ 3692   113]]\n"
     ]
    },
    {
     "data": {
      "image/png": "[encoded data removed]",
      "text/plain": [
       "<Figure size 504x360 with 2 Axes>"
      ]
     },
     "metadata": {},
     "output_type": "display_data"
    },
    {
     "name": "stdout",
     "output_type": "stream",
     "text": [
      "LogisticRegression is saved in Results table.\n",
      "train_scores dataframe is updated.\n",
      "\n",
      "                    Precision Score  Recall Score  Accuracy Score  F1 Score\n",
      "LogisticRegression         0.614193       0.92879        0.837579   0.73942\n",
      "\n",
      "\n",
      "test_scores dataframe is updated.\n",
      "\n",
      "                    Precision Score  Recall Score  Accuracy Score  F1 Score\n",
      "LogisticRegression         0.029698      0.689024        0.806002  0.056941\n"
     ]
    }
   ],
   "source": [
    "Saving_results(LogReg, logreg,'LogisticRegression' )"
   ]
  },
  {
   "cell_type": "code",
   "execution_count": 18,
   "metadata": {
    "ExecuteTime": {
     "end_time": "2020-04-02T16:19:18.041145Z",
     "start_time": "2020-04-02T16:19:18.029177Z"
    }
   },
   "outputs": [
    {
     "data": {
      "text/html": [
       "<div>\n",
       "<style scoped>\n",
       "    .dataframe tbody tr th:only-of-type {\n",
       "        vertical-align: middle;\n",
       "    }\n",
       "\n",
       "    .dataframe tbody tr th {\n",
       "        vertical-align: top;\n",
       "    }\n",
       "\n",
       "    .dataframe thead th {\n",
       "        text-align: right;\n",
       "    }\n",
       "</style>\n",
       "<table border=\"1\" class=\"dataframe\">\n",
       "  <thead>\n",
       "    <tr style=\"text-align: right;\">\n",
       "      <th></th>\n",
       "      <th>Precision Score</th>\n",
       "      <th>Recall Score</th>\n",
       "      <th>Accuracy Score</th>\n",
       "      <th>F1 Score</th>\n",
       "    </tr>\n",
       "  </thead>\n",
       "  <tbody>\n",
       "    <tr>\n",
       "      <td>LogisticRegression</td>\n",
       "      <td>0.614193</td>\n",
       "      <td>0.92879</td>\n",
       "      <td>0.837579</td>\n",
       "      <td>0.73942</td>\n",
       "    </tr>\n",
       "  </tbody>\n",
       "</table>\n",
       "</div>"
      ],
      "text/plain": [
       "                    Precision Score  Recall Score  Accuracy Score  F1 Score\n",
       "LogisticRegression         0.614193       0.92879        0.837579   0.73942"
      ]
     },
     "execution_count": 18,
     "metadata": {},
     "output_type": "execute_result"
    }
   ],
   "source": [
    "train_scores"
   ]
  },
  {
   "cell_type": "code",
   "execution_count": 19,
   "metadata": {
    "ExecuteTime": {
     "end_time": "2020-04-02T16:19:18.237210Z",
     "start_time": "2020-04-02T16:19:18.229231Z"
    }
   },
   "outputs": [
    {
     "data": {
      "text/html": [
       "<div>\n",
       "<style scoped>\n",
       "    .dataframe tbody tr th:only-of-type {\n",
       "        vertical-align: middle;\n",
       "    }\n",
       "\n",
       "    .dataframe tbody tr th {\n",
       "        vertical-align: top;\n",
       "    }\n",
       "\n",
       "    .dataframe thead th {\n",
       "        text-align: right;\n",
       "    }\n",
       "</style>\n",
       "<table border=\"1\" class=\"dataframe\">\n",
       "  <thead>\n",
       "    <tr style=\"text-align: right;\">\n",
       "      <th></th>\n",
       "      <th>Precision Score</th>\n",
       "      <th>Recall Score</th>\n",
       "      <th>Accuracy Score</th>\n",
       "      <th>F1 Score</th>\n",
       "    </tr>\n",
       "  </thead>\n",
       "  <tbody>\n",
       "    <tr>\n",
       "      <td>LogisticRegression</td>\n",
       "      <td>0.029698</td>\n",
       "      <td>0.689024</td>\n",
       "      <td>0.806002</td>\n",
       "      <td>0.056941</td>\n",
       "    </tr>\n",
       "  </tbody>\n",
       "</table>\n",
       "</div>"
      ],
      "text/plain": [
       "                    Precision Score  Recall Score  Accuracy Score  F1 Score\n",
       "LogisticRegression         0.029698      0.689024        0.806002  0.056941"
      ]
     },
     "execution_count": 19,
     "metadata": {},
     "output_type": "execute_result"
    }
   ],
   "source": [
    "test_scores"
   ]
  }
 ],
 "metadata": {
  "kernelspec": {
   "display_name": "TensorFlow-GPU-2.0",
   "language": "python",
   "name": "tf-gpu"
  },
  "language_info": {
   "codemirror_mode": {
    "name": "ipython",
    "version": 3
   },
   "file_extension": ".py",
   "mimetype": "text/x-python",
   "name": "python",
   "nbconvert_exporter": "python",
   "pygments_lexer": "ipython3",
   "version": "3.6.9"
  },
  "toc": {
   "base_numbering": 1,
   "nav_menu": {},
   "number_sections": true,
   "sideBar": true,
   "skip_h1_title": false,
   "title_cell": "Table of Contents",
   "title_sidebar": "Contents",
   "toc_cell": false,
   "toc_position": {},
   "toc_section_display": true,
   "toc_window_display": false
  }
 },
 "nbformat": 4,
 "nbformat_minor": 2
}
